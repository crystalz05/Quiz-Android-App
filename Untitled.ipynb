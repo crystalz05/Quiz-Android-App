{
 "cells": [
  {
   "cell_type": "code",
   "execution_count": 11,
   "id": "40e00e08-cd2e-4189-830a-16062817a79c",
   "metadata": {},
   "outputs": [
    {
     "name": "stdout",
     "output_type": "stream",
     "text": [
      "Requirement already satisfied: firebase-admin in c:\\programdata\\anaconda3\\lib\\site-packages (6.9.0)\n",
      "Requirement already satisfied: cachecontrol>=0.12.14 in c:\\programdata\\anaconda3\\lib\\site-packages (from firebase-admin) (0.14.3)\n",
      "Requirement already satisfied: google-api-python-client>=1.7.8 in c:\\programdata\\anaconda3\\lib\\site-packages (from firebase-admin) (2.173.0)\n",
      "Requirement already satisfied: google-cloud-storage>=1.37.1 in c:\\programdata\\anaconda3\\lib\\site-packages (from firebase-admin) (3.1.1)\n",
      "Requirement already satisfied: pyjwt>=2.5.0 in c:\\programdata\\anaconda3\\lib\\site-packages (from pyjwt[crypto]>=2.5.0->firebase-admin) (2.8.0)\n",
      "Requirement already satisfied: httpx==0.28.1 in c:\\programdata\\anaconda3\\lib\\site-packages (from httpx[http2]==0.28.1->firebase-admin) (0.28.1)\n",
      "Requirement already satisfied: google-api-core<3.0.0dev,>=1.22.1 in c:\\programdata\\anaconda3\\lib\\site-packages (from google-api-core[grpc]<3.0.0dev,>=1.22.1; platform_python_implementation != \"PyPy\"->firebase-admin) (2.25.1)\n",
      "Requirement already satisfied: google-cloud-firestore>=2.19.0 in c:\\programdata\\anaconda3\\lib\\site-packages (from firebase-admin) (2.21.0)\n",
      "Requirement already satisfied: anyio in c:\\programdata\\anaconda3\\lib\\site-packages (from httpx==0.28.1->httpx[http2]==0.28.1->firebase-admin) (4.2.0)\n",
      "Requirement already satisfied: certifi in c:\\programdata\\anaconda3\\lib\\site-packages (from httpx==0.28.1->httpx[http2]==0.28.1->firebase-admin) (2025.1.31)\n",
      "Requirement already satisfied: httpcore==1.* in c:\\programdata\\anaconda3\\lib\\site-packages (from httpx==0.28.1->httpx[http2]==0.28.1->firebase-admin) (1.0.2)\n",
      "Requirement already satisfied: idna in c:\\programdata\\anaconda3\\lib\\site-packages (from httpx==0.28.1->httpx[http2]==0.28.1->firebase-admin) (3.7)\n",
      "Requirement already satisfied: h2<5,>=3 in c:\\programdata\\anaconda3\\lib\\site-packages (from httpx[http2]==0.28.1->firebase-admin) (4.2.0)\n",
      "Requirement already satisfied: h11<0.15,>=0.13 in c:\\programdata\\anaconda3\\lib\\site-packages (from httpcore==1.*->httpx==0.28.1->httpx[http2]==0.28.1->firebase-admin) (0.14.0)\n",
      "Requirement already satisfied: requests>=2.16.0 in c:\\programdata\\anaconda3\\lib\\site-packages (from cachecontrol>=0.12.14->firebase-admin) (2.32.3)\n",
      "Requirement already satisfied: msgpack<2.0.0,>=0.5.2 in c:\\programdata\\anaconda3\\lib\\site-packages (from cachecontrol>=0.12.14->firebase-admin) (1.0.3)\n",
      "Requirement already satisfied: googleapis-common-protos<2.0.0,>=1.56.2 in c:\\programdata\\anaconda3\\lib\\site-packages (from google-api-core<3.0.0dev,>=1.22.1->google-api-core[grpc]<3.0.0dev,>=1.22.1; platform_python_implementation != \"PyPy\"->firebase-admin) (1.70.0)\n",
      "Requirement already satisfied: protobuf!=3.20.0,!=3.20.1,!=4.21.0,!=4.21.1,!=4.21.2,!=4.21.3,!=4.21.4,!=4.21.5,<7.0.0,>=3.19.5 in c:\\programdata\\anaconda3\\lib\\site-packages (from google-api-core<3.0.0dev,>=1.22.1->google-api-core[grpc]<3.0.0dev,>=1.22.1; platform_python_implementation != \"PyPy\"->firebase-admin) (6.31.1)\n",
      "Requirement already satisfied: proto-plus<2.0.0,>=1.22.3 in c:\\programdata\\anaconda3\\lib\\site-packages (from google-api-core<3.0.0dev,>=1.22.1->google-api-core[grpc]<3.0.0dev,>=1.22.1; platform_python_implementation != \"PyPy\"->firebase-admin) (1.26.1)\n",
      "Requirement already satisfied: google-auth<3.0.0,>=2.14.1 in c:\\programdata\\anaconda3\\lib\\site-packages (from google-api-core<3.0.0dev,>=1.22.1->google-api-core[grpc]<3.0.0dev,>=1.22.1; platform_python_implementation != \"PyPy\"->firebase-admin) (2.40.3)\n",
      "Requirement already satisfied: grpcio<2.0.0,>=1.33.2 in c:\\programdata\\anaconda3\\lib\\site-packages (from google-api-core[grpc]<3.0.0dev,>=1.22.1; platform_python_implementation != \"PyPy\"->firebase-admin) (1.73.0)\n",
      "Requirement already satisfied: grpcio-status<2.0.0,>=1.33.2 in c:\\programdata\\anaconda3\\lib\\site-packages (from google-api-core[grpc]<3.0.0dev,>=1.22.1; platform_python_implementation != \"PyPy\"->firebase-admin) (1.73.0)\n",
      "Requirement already satisfied: httplib2<1.0.0,>=0.19.0 in c:\\programdata\\anaconda3\\lib\\site-packages (from google-api-python-client>=1.7.8->firebase-admin) (0.22.0)\n",
      "Requirement already satisfied: google-auth-httplib2<1.0.0,>=0.2.0 in c:\\programdata\\anaconda3\\lib\\site-packages (from google-api-python-client>=1.7.8->firebase-admin) (0.2.0)\n",
      "Requirement already satisfied: uritemplate<5,>=3.0.1 in c:\\programdata\\anaconda3\\lib\\site-packages (from google-api-python-client>=1.7.8->firebase-admin) (4.2.0)\n",
      "Requirement already satisfied: google-cloud-core<3.0.0,>=1.4.1 in c:\\programdata\\anaconda3\\lib\\site-packages (from google-cloud-firestore>=2.19.0->firebase-admin) (2.4.3)\n",
      "Requirement already satisfied: google-resumable-media<3.0.0,>=2.7.2 in c:\\programdata\\anaconda3\\lib\\site-packages (from google-cloud-storage>=1.37.1->firebase-admin) (2.7.2)\n",
      "Requirement already satisfied: google-crc32c<2.0.0,>=1.1.3 in c:\\programdata\\anaconda3\\lib\\site-packages (from google-cloud-storage>=1.37.1->firebase-admin) (1.7.1)\n",
      "Requirement already satisfied: cryptography>=3.4.0 in c:\\programdata\\anaconda3\\lib\\site-packages (from pyjwt[crypto]>=2.5.0->firebase-admin) (43.0.0)\n",
      "Requirement already satisfied: cffi>=1.12 in c:\\programdata\\anaconda3\\lib\\site-packages (from cryptography>=3.4.0->pyjwt[crypto]>=2.5.0->firebase-admin) (1.17.1)\n",
      "Requirement already satisfied: cachetools<6.0,>=2.0.0 in c:\\programdata\\anaconda3\\lib\\site-packages (from google-auth<3.0.0,>=2.14.1->google-api-core<3.0.0dev,>=1.22.1->google-api-core[grpc]<3.0.0dev,>=1.22.1; platform_python_implementation != \"PyPy\"->firebase-admin) (5.3.3)\n",
      "Requirement already satisfied: pyasn1-modules>=0.2.1 in c:\\programdata\\anaconda3\\lib\\site-packages (from google-auth<3.0.0,>=2.14.1->google-api-core<3.0.0dev,>=1.22.1->google-api-core[grpc]<3.0.0dev,>=1.22.1; platform_python_implementation != \"PyPy\"->firebase-admin) (0.2.8)\n",
      "Requirement already satisfied: rsa<5,>=3.1.4 in c:\\programdata\\anaconda3\\lib\\site-packages (from google-auth<3.0.0,>=2.14.1->google-api-core<3.0.0dev,>=1.22.1->google-api-core[grpc]<3.0.0dev,>=1.22.1; platform_python_implementation != \"PyPy\"->firebase-admin) (4.9.1)\n",
      "Requirement already satisfied: hyperframe<7,>=6.1 in c:\\programdata\\anaconda3\\lib\\site-packages (from h2<5,>=3->httpx[http2]==0.28.1->firebase-admin) (6.1.0)\n",
      "Requirement already satisfied: hpack<5,>=4.1 in c:\\programdata\\anaconda3\\lib\\site-packages (from h2<5,>=3->httpx[http2]==0.28.1->firebase-admin) (4.1.0)\n",
      "Requirement already satisfied: pyparsing!=3.0.0,!=3.0.1,!=3.0.2,!=3.0.3,<4,>=2.4.2 in c:\\programdata\\anaconda3\\lib\\site-packages (from httplib2<1.0.0,>=0.19.0->google-api-python-client>=1.7.8->firebase-admin) (3.1.2)\n",
      "Requirement already satisfied: charset-normalizer<4,>=2 in c:\\programdata\\anaconda3\\lib\\site-packages (from requests>=2.16.0->cachecontrol>=0.12.14->firebase-admin) (3.3.2)\n",
      "Requirement already satisfied: urllib3<3,>=1.21.1 in c:\\programdata\\anaconda3\\lib\\site-packages (from requests>=2.16.0->cachecontrol>=0.12.14->firebase-admin) (2.2.3)\n",
      "Requirement already satisfied: sniffio>=1.1 in c:\\programdata\\anaconda3\\lib\\site-packages (from anyio->httpx==0.28.1->httpx[http2]==0.28.1->firebase-admin) (1.3.0)\n",
      "Requirement already satisfied: pycparser in c:\\programdata\\anaconda3\\lib\\site-packages (from cffi>=1.12->cryptography>=3.4.0->pyjwt[crypto]>=2.5.0->firebase-admin) (2.21)\n",
      "Requirement already satisfied: pyasn1<0.5.0,>=0.4.6 in c:\\programdata\\anaconda3\\lib\\site-packages (from pyasn1-modules>=0.2.1->google-auth<3.0.0,>=2.14.1->google-api-core<3.0.0dev,>=1.22.1->google-api-core[grpc]<3.0.0dev,>=1.22.1; platform_python_implementation != \"PyPy\"->firebase-admin) (0.4.8)\n"
     ]
    }
   ],
   "source": [
    "!pip install firebase-admin"
   ]
  },
  {
   "cell_type": "code",
   "execution_count": 29,
   "id": "97c4a9dd-a37d-4279-9741-befc71c8093c",
   "metadata": {},
   "outputs": [
    {
     "name": "stdout",
     "output_type": "stream",
     "text": [
      "Upload complete.\n"
     ]
    }
   ],
   "source": [
    "import csv\n",
    "import json\n",
    "import firebase_admin\n",
    "from firebase_admin import credentials, firestore\n",
    "\n",
    "if not firebase_admin._apps:\n",
    "    cred = credentials.Certificate(\"serviceAccountKey.json\")\n",
    "    firebase_admin.initialize_app(cred)\n",
    "    \n",
    "db = firestore.client()\n",
    "\n",
    "with open('computer.csv', newline='', encoding='ISO-8859-1') as csvfile:\n",
    "    reader = csv.DictReader(csvfile)\n",
    "    for row in reader:\n",
    "        question_data = {\n",
    "            'id': row['id'],\n",
    "            'question': row['questionText'],\n",
    "            'difficulty': row['difficulty'],\n",
    "            'type': row['type'],\n",
    "            'options': json.loads(row['options']),\n",
    "            'correctAnswer': int(row['correctAnswerIndex'])\n",
    "        }\n",
    "        db.collection('quiz_questions').document(row['id']).set(question_data)\n",
    "\n",
    "print(\"Upload complete.\")"
   ]
  }
 ],
 "metadata": {
  "kernelspec": {
   "display_name": "Python [conda env:base] *",
   "language": "python",
   "name": "conda-base-py"
  },
  "language_info": {
   "codemirror_mode": {
    "name": "ipython",
    "version": 3
   },
   "file_extension": ".py",
   "mimetype": "text/x-python",
   "name": "python",
   "nbconvert_exporter": "python",
   "pygments_lexer": "ipython3",
   "version": "3.12.7"
  }
 },
 "nbformat": 4,
 "nbformat_minor": 5
}
